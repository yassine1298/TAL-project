{
 "cells": [
  {
   "cell_type": "code",
   "execution_count": 81,
   "metadata": {},
   "outputs": [],
   "source": [
    "import re\n",
    "import os\n",
    "import nltk\n",
    "from nltk.probability import FreqDist"
   ]
  },
  {
   "cell_type": "code",
   "execution_count": 82,
   "metadata": {},
   "outputs": [],
   "source": [
    "import colorama\n",
    "from colorama import Fore\n",
    "from colorama import Style"
   ]
  },
  {
   "cell_type": "code",
   "execution_count": 83,
   "metadata": {},
   "outputs": [
    {
     "name": "stdout",
     "output_type": "stream",
     "text": [
      "['corpus.txt', 'corpus1.txt', 'corpus2.txt']\n",
      "[\"[MUSIC]. \\nHello, and a warm welcome to every one of \\nyou from around the world. \\n\\nThis is Week 1 of Computation \\nNeuroscience and I'm your instructor, \\nRajesh Rao. \\nLet's begin our computation adventures \\nwith a picture. \\nYou've probably seen a picture like this \\nbefore.\\n\\nPhysicists tell us that this is the \\nuniverse that we live in, but I think \\nthey're mistaken. \\nThis is the universe that we really live \\nin. \\nThis 3-pound mass of tissue inside our \\nskull is what allows us to perceive the \\nworld and indeed the universe. \\nThis amazing machine is what enables us \\nto think, feel, act, and be human. \\nThis is what is enabling me to speak \\nthese words right now and allowing you to \\nlisten. \\nAnd when the lecture gets boring, which \\nhopefully, won't happen too often. \\nYou can thank the same 3-pound organ for \\nenabling you to skip forward a few slides \\nor maybe doze off in that chair that \\nyou're sitting in. \\nUnderstanding how the brain does all of \\nthese things is one of the most profound \\nscientific mysteries of the 21st century. \\nIn this course, we'll try to unravel some \\nof this mystery and understand the brain \\nusing computational models. \\nIn this course, we'll cover three types \\nof Computational Models. \\nThe first kind are Descriptive Models. \\nSo in this case, we're interested in \\nquantifying how neurons respond to \\nexternal stimuli. \\nAnd what we get here is something called \\na neural encoding model, which \\nquantitatively describes a particular \\nneuron responds to external stimuli. \\nThe counterpart to encoding is decoding. \\nSo in this case, we're interested in \\nextracting information from neurons that \\nhave been recorded from the brain. \\nAnd then, using this information for \\ncontrolling something like a prosthetic \\nhand for example. \\nSo this problem of decoding is extremely \\nimportant in the field of brain-computer \\ninterfacing and neuroprosthetics. \\nThe second type of model that we look at \\nare called Mechanistic Models. \\nSo in this case, we are interested in \\nsimulating the behavior of a single \\nneuron or a network of neurons on a \\ncomputer. \\nSo you might have heard about the Human \\nBrain Project that is being led by Henry \\nMarkram in Europe. \\nAnd, that project is an example of a \\ncomputer simulation of an extremely large \\nnetwork of neurons in the extreme case, \\nperhaps, the entire brain on a computer. \\nThe last type of models that we look at \\nare called Interpretive or Normative \\nModels. \\nSo in this case, we are interested in \\nunderstanding why brain circuits operate \\nin the way that they do. \\nIn other words, we're interested in \\nextracting some computational principles \\nthat underlie the function of a \\nparticular brain circuit. \\nSo we'll look at examples of all these \\nthree types of models in the coming \\nweeks. \\nNow, moving on to some course information \\nand logistics. \\nThe length of the course is eight weeks, \\nand each week, we'll give you one video \\nlecture, which will be about 1 hour long. \\nAnd we'll split this up into 10 minute \\nchunks and we'll also give you one \\nhomework quiz each week. \\nNow, these lectures and homeworks will be \\nreleased on Fridays and the homeworks \\nwill be due the second Monday from the \\nrelease date. \\nSo this way, you'll be able to use two \\nweekends to work on each homework and the \\ncomplete syllabus and schedule is on the \\ncourse web page. \\nHere are the two recommended textbooks \\nfor this course. \\nThey are not required, but they might be \\nuseful if you need additional information \\nbesides what's covered in the lecture \\nvideos and lecture slides. \\nThe first one is Theoretical \\nNeuroscience, this is a standard textbook \\nin the field and its a book written by \\nPeter Dayan and Larry Abbot, two leading \\nresearchers in computational \\nneuroscience. \\nThe other textbook is called Tutorial on \\nNeural Systems Modelling and it's by \\nanother researcher in the field, Thomas \\nAnastasio. \\nAnd this book also comes with the Matlab \\ncode that you might find useful as you're \\nexploring concepts and computational \\nneuroscience. \\nNow, on to homeworks and gradings. \\nSo the course grade will be based on six \\nweekly homeworks, most of these will be \\nmultiple choice questions. \\nSome of them will be based on the result \\nof programming and Matlab or Octave. \\nAnd, we'll allow up to submissions for \\neach homework and we'll take the maximum \\nscore out of the three that you've \\nsubmitted. \\nThe good news is there's no exams and \\nthere will be a certificate of completion \\nif your total course grade is greater \\nthan 60%. \\nI mentioned earlier that some of the \\nhomework questions will be based on \\nresults that you get after you've \\nexecuted your program in Matlab. \\nSo what if you don't have Matlab? \\nWell, no worries. \\nYou can use Octave which is quite similar \\nto Matlab, but it's free. \\nAnd you can download Octave from the \\nwebsite given on the slide. \\nAnd Octave should suffice for all the \\nhomework questions that we'll have in \\nthis course. \\nBut what if you have no programming \\nexperience to begin with? \\nWell, no problem. \\nPerhaps you can use this opportunity to \\nlearn programming. \\nthere are several Matlab tutorials on the \\ncourse website that you can try out, and \\nalso, the first homework assignment is \\nactually a Matlab practice homework. \\nSo the submission is optional, but it \\nmight be really useful for those of you \\nwho are programming for the first time in \\nMatlab to try out the homework and submit \\nit and see how you did. \\nSo let's end with some of the goals of \\nthe course. \\nIn other words, what can we expect to \\nlearn in this course? \\nWell, at the end of the course, you \\nshould be able to, first of all, \\nquantitatively describe what a biological \\nneuron, a network of neurons is doing \\ngiven some experimental data that perhaps \\nyou got from your neuroscientist friend. \\nSecondly, you would like to be able to \\nsimulate on a computer the behavior of \\nneuron or other networks of neurons. \\nAnd finally, you should be able to at the \\nend of the course, formulate competition \\nof principles that would help explain the \\noperation of certain neurons or networks \\nin the brain. \\nSo, are you ready? \\nLet's begin. \\n\\n >> Welcome back. \\nLet's begin by asking what is \\ncomputational neuroscience? \\nAccording to Terry Sejnowski, who was one \\nof the founding fathers of the field and \\nwas also my postdoctoral advisers, the \\ngoal of computation neuroscience is to \\nexplain in computational terms how brains \\ngenerate behaviors. \\nNow, let's dissect this definition a \\nlittle bit. \\nThis leads us to a definition proposed by \\nPeter Dayan and Larry Abbott. \\nAccording to them, computational \\nneuroscience is the field that provides \\nus with the tools and methods for doing \\nthree different things. \\nOne is characterizing what nervous \\nsystems do. \\nThe second is Determining how they \\nfunction. \\nAnd finally, the third is, understanding \\nwhy they operate in particular ways. \\nNow, this actually corresponds quite \\nnicely to the three types of \\ncomputational models that we looked at \\nearlier in the, in a previous lecture.  \", 'China is an emerging m a m FinTech hotbed thanks to its expanding middle class, \\nrapid digitization and electronic payments adoption. But a new report from \\nCiti found that, while China may be the market to watch for FinTech investments, \\nthe U.S. continues to thrive at the top of the B2B FinTech mountain.\\nAccording scape.', \"text1: simulate on a computer the behavior of neuron or other networks of neurons. \\ntext2: And finally, you should be able to at the end of the course, formulate competition \\ntext3: of principles that would help explain the Let's begin by asking what is \\ntext4: computational neuroscience? According to Terry Sejnowski, who was one \\ntext5: of the founding fathers of the field and was also my postdoctoral advisers, the \"]\n"
     ]
    }
   ],
   "source": [
    "data_path = \"./Corp\"\n",
    "data_dir_list = os.listdir(data_path)\n",
    "\n",
    "names=[]\n",
    "for dataset in data_dir_list:\n",
    "  names.append(dataset)\n",
    "#print(names)\n",
    "Files2=[]\n",
    "\n",
    "for file in data_dir_list:\n",
    "    with open(data_path+'/'+ file,  \"r\") as fileToRead:\n",
    "        fileToRead=fileToRead.read()\n",
    "        \n",
    "    Files2.append(fileToRead)\n",
    "    \n",
    "print(names)    \n",
    "print(Files2)"
   ]
  },
  {
   "cell_type": "code",
   "execution_count": 84,
   "metadata": {},
   "outputs": [
    {
     "name": "stdout",
     "output_type": "stream",
     "text": [
      "[['music', 'hello', 'and', 'a', 'warm', 'welcome', 'to', 'every', 'one', 'of', 'you', 'from', 'around', 'the', 'world', 'this', 'is', 'week', '1', 'of', 'computation', 'neuroscience', 'and', 'i', 'm', 'your', 'instructor', 'rajesh', 'rao', 'let', 's', 'begin', 'our', 'computation', 'adventures', 'with', 'a', 'picture', 'you', 've', 'probably', 'seen', 'a', 'picture', 'like', 'this', 'before', 'physicists', 'tell', 'us', 'that', 'this', 'is', 'the', 'universe', 'that', 'we', 'live', 'in', 'but', 'i', 'think', 'they', 're', 'mistaken', 'this', 'is', 'the', 'universe', 'that', 'we', 'really', 'live', 'in', 'this', '3-pound', 'mass', 'of', 'tissue', 'inside', 'our', 'skull', 'is', 'what', 'allows', 'us', 'to', 'perceive', 'the', 'world', 'and', 'indeed', 'the', 'universe', 'this', 'amazing', 'machine', 'is', 'what', 'enables', 'us', 'to', 'think', 'feel', 'act', 'and', 'be', 'human', 'this', 'is', 'what', 'is', 'enabling', 'me', 'to', 'speak', 'these', 'words', 'right', 'now', 'and', 'allowing', 'you', 'to', 'listen', 'and', 'when', 'the', 'lecture', 'gets', 'boring', 'which', 'hopefully', 'won', 't', 'happen', 'too', 'often', 'you', 'can', 'thank', 'the', 'same', '3-pound', 'organ', 'for', 'enabling', 'you', 'to', 'skip', 'forward', 'a', 'few', 'slides', 'or', 'maybe', 'doze', 'off', 'in', 'that', 'chair', 'that', 'you', 're', 'sitting', 'in', 'understanding', 'how', 'the', 'brain', 'does', 'all', 'of', 'these', 'things', 'is', 'one', 'of', 'the', 'most', 'profound', 'scientific', 'mysteries', 'of', 'the', '21st', 'century', 'in', 'this', 'course', 'we', 'll', 'try', 'to', 'unravel', 'some', 'of', 'this', 'mystery', 'and', 'understand', 'the', 'brain', 'using', 'computational', 'models', 'in', 'this', 'course', 'we', 'll', 'cover', 'three', 'types', 'of', 'computational', 'models', 'the', 'first', 'kind', 'are', 'descriptive', 'models', 'so', 'in', 'this', 'case', 'we', 're', 'interested', 'in', 'quantifying', 'how', 'neurons', 'respond', 'to', 'external', 'stimuli', 'and', 'what', 'we', 'get', 'here', 'is', 'something', 'called', 'a', 'neural', 'encoding', 'model', 'which', 'quantitatively', 'describes', 'a', 'particular', 'neuron', 'responds', 'to', 'external', 'stimuli', 'the', 'counterpart', 'to', 'encoding', 'is', 'decoding', 'so', 'in', 'this', 'case', 'we', 're', 'interested', 'in', 'extracting', 'information', 'from', 'neurons', 'that', 'have', 'been', 'recorded', 'from', 'the', 'brain', 'and', 'then', 'using', 'this', 'information', 'for', 'controlling', 'something', 'like', 'a', 'prosthetic', 'hand', 'for', 'example', 'so', 'this', 'problem', 'of', 'decoding', 'is', 'extremely', 'important', 'in', 'the', 'field', 'of', 'brain-computer', 'interfacing', 'and', 'neuroprosthetics', 'the', 'second', 'type', 'of', 'model', 'that', 'we', 'look', 'at', 'are', 'called', 'mechanistic', 'models', 'so', 'in', 'this', 'case', 'we', 'are', 'interested', 'in', 'simulating', 'the', 'behavior', 'of', 'a', 'single', 'neuron', 'or', 'a', 'network', 'of', 'neurons', 'on', 'a', 'computer', 'so', 'you', 'might', 'have', 'heard', 'about', 'the', 'human', 'brain', 'project', 'that', 'is', 'being', 'led', 'by', 'henry', 'markram', 'in', 'europe', 'and', 'that', 'project', 'is', 'an', 'example', 'of', 'a', 'computer', 'simulation', 'of', 'an', 'extremely', 'large', 'network', 'of', 'neurons', 'in', 'the', 'extreme', 'case', 'perhaps', 'the', 'entire', 'brain', 'on', 'a', 'computer', 'the', 'last', 'type', 'of', 'models', 'that', 'we', 'look', 'at', 'are', 'called', 'interpretive', 'or', 'normative', 'models', 'so', 'in', 'this', 'case', 'we', 'are', 'interested', 'in', 'understanding', 'why', 'brain', 'circuits', 'operate', 'in', 'the', 'way', 'that', 'they', 'do', 'in', 'other', 'words', 'we', 're', 'interested', 'in', 'extracting', 'some', 'computational', 'principles', 'that', 'underlie', 'the', 'function', 'of', 'a', 'particular', 'brain', 'circuit', 'so', 'we', 'll', 'look', 'at', 'examples', 'of', 'all', 'these', 'three', 'types', 'of', 'models', 'in', 'the', 'coming', 'weeks', 'now', 'moving', 'on', 'to', 'some', 'course', 'information', 'and', 'logistics', 'the', 'length', 'of', 'the', 'course', 'is', 'eight', 'weeks', 'and', 'each', 'week', 'we', 'll', 'give', 'you', 'one', 'video', 'lecture', 'which', 'will', 'be', 'about', '1', 'hour', 'long', 'and', 'we', 'll', 'split', 'this', 'up', 'into', '10', 'minute', 'chunks', 'and', 'we', 'll', 'also', 'give', 'you', 'one', 'homework', 'quiz', 'each', 'week', 'now', 'these', 'lectures', 'and', 'homeworks', 'will', 'be', 'released', 'on', 'fridays', 'and', 'the', 'homeworks', 'will', 'be', 'due', 'the', 'second', 'monday', 'from', 'the', 'release', 'date', 'so', 'this', 'way', 'you', 'll', 'be', 'able', 'to', 'use', 'two', 'weekends', 'to', 'work', 'on', 'each', 'homework', 'and', 'the', 'complete', 'syllabus', 'and', 'schedule', 'is', 'on', 'the', 'course', 'web', 'page', 'here', 'are', 'the', 'two', 'recommended', 'textbooks', 'for', 'this', 'course', 'they', 'are', 'not', 'required', 'but', 'they', 'might', 'be', 'useful', 'if', 'you', 'need', 'additional', 'information', 'besides', 'what', 's', 'covered', 'in', 'the', 'lecture', 'videos', 'and', 'lecture', 'slides', 'the', 'first', 'one', 'is', 'theoretical', 'neuroscience', 'this', 'is', 'a', 'standard', 'textbook', 'in', 'the', 'field', 'and', 'its', 'a', 'book', 'written', 'by', 'peter', 'dayan', 'and', 'larry', 'abbot', 'two', 'leading', 'researchers', 'in', 'computational', 'neuroscience', 'the', 'other', 'textbook', 'is', 'called', 'tutorial', 'on', 'neural', 'systems', 'modelling', 'and', 'it', 's', 'by', 'another', 'researcher', 'in', 'the', 'field', 'thomas', 'anastasio', 'and', 'this', 'book', 'also', 'comes', 'with', 'the', 'matlab', 'code', 'that', 'you', 'might', 'find', 'useful', 'as', 'you', 're', 'exploring', 'concepts', 'and', 'computational', 'neuroscience', 'now', 'on', 'to', 'homeworks', 'and', 'gradings', 'so', 'the', 'course', 'grade', 'will', 'be', 'based', 'on', 'six', 'weekly', 'homeworks', 'most', 'of', 'these', 'will', 'be', 'multiple', 'choice', 'questions', 'some', 'of', 'them', 'will', 'be', 'based', 'on', 'the', 'result', 'of', 'programming', 'and', 'matlab', 'or', 'octave', 'and', 'we', 'll', 'allow', 'up', 'to', 'submissions', 'for', 'each', 'homework', 'and', 'we', 'll', 'take', 'the', 'maximum', 'score', 'out', 'of', 'the', 'three', 'that', 'you', 've', 'submitted', 'the', 'good', 'news', 'is', 'there', 's', 'no', 'exams', 'and', 'there', 'will', 'be', 'a', 'certificate', 'of', 'completion', 'if', 'your', 'total', 'course', 'grade', 'is', 'greater', 'than', '60', 'i', 'mentioned', 'earlier', 'that', 'some', 'of', 'the', 'homework', 'questions', 'will', 'be', 'based', 'on', 'results', 'that', 'you', 'get', 'after', 'you', 've', 'executed', 'your', 'program', 'in', 'matlab', 'so', 'what', 'if', 'you', 'don', 't', 'have', 'matlab', 'well', 'no', 'worries', 'you', 'can', 'use', 'octave', 'which', 'is', 'quite', 'similar', 'to', 'matlab', 'but', 'it', 's', 'free', 'and', 'you', 'can', 'download', 'octave', 'from', 'the', 'website', 'given', 'on', 'the', 'slide', 'and', 'octave', 'should', 'suffice', 'for', 'all', 'the', 'homework', 'questions', 'that', 'we', 'll', 'have', 'in', 'this', 'course', 'but', 'what', 'if', 'you', 'have', 'no', 'programming', 'experience', 'to', 'begin', 'with', 'well', 'no', 'problem', 'perhaps', 'you', 'can', 'use', 'this', 'opportunity', 'to', 'learn', 'programming', 'there', 'are', 'several', 'matlab', 'tutorials', 'on', 'the', 'course', 'website', 'that', 'you', 'can', 'try', 'out', 'and', 'also', 'the', 'first', 'homework', 'assignment', 'is', 'actually', 'a', 'matlab', 'practice', 'homework', 'so', 'the', 'submission', 'is', 'optional', 'but', 'it', 'might', 'be', 'really', 'useful', 'for', 'those', 'of', 'you', 'who', 'are', 'programming', 'for', 'the', 'first', 'time', 'in', 'matlab', 'to', 'try', 'out', 'the', 'homework', 'and', 'submit', 'it', 'and', 'see', 'how', 'you', 'did', 'so', 'let', 's', 'end', 'with', 'some', 'of', 'the', 'goals', 'of', 'the', 'course', 'in', 'other', 'words', 'what', 'can', 'we', 'expect', 'to', 'learn', 'in', 'this', 'course', 'well', 'at', 'the', 'end', 'of', 'the', 'course', 'you', 'should', 'be', 'able', 'to', 'first', 'of', 'all', 'quantitatively', 'describe', 'what', 'a', 'biological', 'neuron', 'a', 'network', 'of', 'neurons', 'is', 'doing', 'given', 'some', 'experimental', 'data', 'that', 'perhaps', 'you', 'got', 'from', 'your', 'neuroscientist', 'friend', 'secondly', 'you', 'would', 'like', 'to', 'be', 'able', 'to', 'simulate', 'on', 'a', 'computer', 'the', 'behavior', 'of', 'neuron', 'or', 'other', 'networks', 'of', 'neurons', 'and', 'finally', 'you', 'should', 'be', 'able', 'to', 'at', 'the', 'end', 'of', 'the', 'course', 'formulate', 'competition', 'of', 'principles', 'that', 'would', 'help', 'explain', 'the', 'operation', 'of', 'certain', 'neurons', 'or', 'networks', 'in', 'the', 'brain', 'so', 'are', 'you', 'ready', 'let', 's', 'begin', 'welcome', 'back', 'let', 's', 'begin', 'by', 'asking', 'what', 'is', 'computational', 'neuroscience', 'according', 'to', 'terry', 'sejnowski', 'who', 'was', 'one', 'of', 'the', 'founding', 'fathers', 'of', 'the', 'field', 'and', 'was', 'also', 'my', 'postdoctoral', 'advisers', 'the', 'goal', 'of', 'computation', 'neuroscience', 'is', 'to', 'explain', 'in', 'computational', 'terms', 'how', 'brains', 'generate', 'behaviors', 'now', 'let', 's', 'dissect', 'this', 'definition', 'a', 'little', 'bit', 'this', 'leads', 'us', 'to', 'a', 'definition', 'proposed', 'by', 'peter', 'dayan', 'and', 'larry', 'abbott', 'according', 'to', 'them', 'computational', 'neuroscience', 'is', 'the', 'field', 'that', 'provides', 'us', 'with', 'the', 'tools', 'and', 'methods', 'for', 'doing', 'three', 'different', 'things', 'one', 'is', 'characterizing', 'what', 'nervous', 'systems', 'do', 'the', 'second', 'is', 'determining', 'how', 'they', 'function', 'and', 'finally', 'the', 'third', 'is', 'understanding', 'why', 'they', 'operate', 'in', 'particular', 'ways', 'now', 'this', 'actually', 'corresponds', 'quite', 'nicely', 'to', 'the', 'three', 'types', 'of', 'computational', 'models', 'that', 'we', 'looked', 'at', 'earlier', 'in', 'the', 'in', 'a', 'previous', 'lecture'], ['china', 'is', 'an', 'emerging', 'm', 'a', 'm', 'fintech', 'hotbed', 'thanks', 'to', 'its', 'expanding', 'middle', 'class', 'rapid', 'digitization', 'and', 'electronic', 'payments', 'adoption', 'but', 'a', 'new', 'report', 'from', 'citi', 'found', 'that', 'while', 'china', 'may', 'be', 'the', 'market', 'to', 'watch', 'for', 'fintech', 'investments', 'the', 'u', 's', 'continues', 'to', 'thrive', 'at', 'the', 'top', 'of', 'the', 'b2b', 'fintech', 'mountain', 'according', 'scape'], ['text1', 'simulate', 'on', 'a', 'computer', 'the', 'behavior', 'of', 'neuron', 'or', 'other', 'networks', 'of', 'neurons', 'text2', 'and', 'finally', 'you', 'should', 'be', 'able', 'to', 'at', 'the', 'end', 'of', 'the', 'course', 'formulate', 'competition', 'text3', 'of', 'principles', 'that', 'would', 'help', 'explain', 'the', 'let', 's', 'begin', 'by', 'asking', 'what', 'is', 'text4', 'computational', 'neuroscience', 'according', 'to', 'terry', 'sejnowski', 'who', 'was', 'one', 'text5', 'of', 'the', 'founding', 'fathers', 'of', 'the', 'field', 'and', 'was', 'also', 'my', 'postdoctoral', 'advisers', 'the']]\n"
     ]
    }
   ],
   "source": [
    "u=-1\n",
    "listOfTokens=[]\n",
    "listOfTokensForfreqDist=[]\n",
    "for i in data_dir_list:\n",
    "    listOfTokens.append(re.findall(r'\\b\\w[\\w-]*\\b', Files2[u+1].lower()))\n",
    "    listOfTokensForfreqDist.extend(re.findall(r'\\b\\w[\\w-]*\\b', Files2[u+1].lower()))\n",
    "    u+=1\n",
    "\n",
    "print(listOfTokens)"
   ]
  },
  {
   "cell_type": "code",
   "execution_count": 85,
   "metadata": {},
   "outputs": [
    {
     "name": "stdout",
     "output_type": "stream",
     "text": [
      "Entrer les mots  de rechrehes: able\n"
     ]
    }
   ],
   "source": [
    "word2find = input(\"Entrer les mots  de rechrehes: \").lower()"
   ]
  },
  {
   "cell_type": "code",
   "execution_count": 86,
   "metadata": {},
   "outputs": [
    {
     "name": "stdout",
     "output_type": "stream",
     "text": [
      "Avant? 2\n"
     ]
    }
   ],
   "source": [
    "left = input(\"Avant? \") # This asks for the context of words on either side to grab"
   ]
  },
  {
   "cell_type": "code",
   "execution_count": 87,
   "metadata": {},
   "outputs": [
    {
     "name": "stdout",
     "output_type": "stream",
     "text": [
      "Apres? 1\n"
     ]
    }
   ],
   "source": [
    "right = input(\"Apres? \") # This asks for the context of words on either side to grab"
   ]
  },
  {
   "cell_type": "code",
   "execution_count": 88,
   "metadata": {},
   "outputs": [],
   "source": [
    "def makeConc(word2conc,list2FindIn,data_dir,concList,Files,right,left):  \n",
    "    u=-1\n",
    "    concl=[]\n",
    "    for i in data_dir:\n",
    "        end = len(list2FindIn[u+1])\n",
    "        o=list2FindIn[u+1]\n",
    "        sequences = {'seq{}'.format(idx): i.split() for idx, i in enumerate([word2find])}\n",
    "        count=0\n",
    "        for idx in range(len(o)):\n",
    "            for k, v in sequences.items():\n",
    "                if idx + len(v) < len(o) and o[idx: idx+len(v)] == v:\n",
    "                    #print(k, idx)\n",
    "                    if(idx==0):\n",
    "                        cont=o[idx:idx+(int(right)+1)]+list('...')\n",
    "                    else:\n",
    "                        cont=list('...')+o[idx-int(left):idx+(int(right)+1)]+list('...')\n",
    "\n",
    "                    concordanceLine = ' '.join(cont)\n",
    "                    count=count+1\n",
    "                    concl.append(concordanceLine) \n",
    "        if(count>0):\n",
    "            print('Dans le Fichier ',Files[u+1],'est fréquenté : ',count,'fois')\n",
    "        u+=1\n",
    "    concList.extend(concl)\n",
    "        \n",
    "    return concList"
   ]
  },
  {
   "cell_type": "code",
   "execution_count": 89,
   "metadata": {},
   "outputs": [
    {
     "name": "stdout",
     "output_type": "stream",
     "text": [
      "Dans le Fichier  corpus.txt est fréquenté :  4 fois\n",
      "Dans le Fichier  corpus2.txt est fréquenté :  1 fois\n",
      "La liste des concordances:\n",
      ". . . ll be able to . . .\n",
      ". . . should be able to . . .\n",
      ". . . to be able to . . .\n",
      ". . . should be able to . . .\n",
      ". . . should be able to . . .\n"
     ]
    }
   ],
   "source": [
    "conc=[]\n",
    "makeConc(word2find,listOfTokens,data_dir_list,conc,names,right,left)\n",
    "\n",
    "print('La liste des concordances:')\n",
    "for i in conc:\n",
    "    print(i)"
   ]
  },
  {
   "cell_type": "code",
   "execution_count": 90,
   "metadata": {},
   "outputs": [
    {
     "data": {
      "text/plain": [
       "[('the', 81),\n",
       " ('of', 49),\n",
       " ('and', 43),\n",
       " ('in', 35),\n",
       " ('to', 34),\n",
       " ('is', 32),\n",
       " ('you', 30),\n",
       " ('this', 27),\n",
       " ('a', 26),\n",
       " ('that', 24),\n",
       " ('we', 21),\n",
       " ('be', 17),\n",
       " ('course', 15),\n",
       " ('on', 15),\n",
       " ('so', 13),\n",
       " ('what', 12),\n",
       " ('s', 11),\n",
       " ('for', 10),\n",
       " ('ll', 10),\n",
       " ('computational', 10),\n",
       " ('are', 10),\n",
       " ('one', 8),\n",
       " ('neuroscience', 8),\n",
       " ('brain', 8),\n",
       " ('models', 8),\n",
       " ('neurons', 8),\n",
       " ('at', 8),\n",
       " ('will', 8),\n",
       " ('homework', 8),\n",
       " ('matlab', 8),\n",
       " ('from', 7),\n",
       " ('or', 7),\n",
       " ('some', 7),\n",
       " ('let', 6),\n",
       " ('but', 6),\n",
       " ('they', 6),\n",
       " ('re', 6),\n",
       " ('now', 6),\n",
       " ('can', 6),\n",
       " ('field', 6),\n",
       " ('by', 6),\n",
       " ('begin', 5),\n",
       " ('with', 5),\n",
       " ('us', 5),\n",
       " ('these', 5),\n",
       " ('lecture', 5),\n",
       " ('how', 5),\n",
       " ('three', 5),\n",
       " ('first', 5),\n",
       " ('case', 5)]"
      ]
     },
     "execution_count": 90,
     "metadata": {},
     "output_type": "execute_result"
    }
   ],
   "source": [
    "#l’affichage de la liste des fréquences des mots\n",
    "fdist = FreqDist(word.lower() for word in listOfTokensForfreqDist)\n",
    "ff = fdist.most_common(50) \n",
    "ff"
   ]
  },
  {
   "cell_type": "code",
   "execution_count": 92,
   "metadata": {},
   "outputs": [
    {
     "name": "stdout",
     "output_type": "stream",
     "text": [
      "and\n",
      "la fréquence du mot \u001b[34m\u001b[1mand\u001b[0m est \u001b[34m\u001b[1m43\u001b[0m\n"
     ]
    }
   ],
   "source": [
    "# On peut aussi déterminer la fréquence d'un mot particulier avec\n",
    "\n",
    "mot = input('')\n",
    "y = fdist[mot]\n",
    "print(\"la fréquence du mot \" + Fore.BLUE + Style.BRIGHT + mot + Style.RESET_ALL + \" est \"\n",
    "      + Fore.BLUE + Style.BRIGHT + str(y) + Style.RESET_ALL)"
   ]
  },
  {
   "cell_type": "code",
   "execution_count": 94,
   "metadata": {},
   "outputs": [
    {
     "name": "stdout",
     "output_type": "stream",
     "text": [
      "Le fichier \u001b[33m\u001b[1m Able_Concordance.txt \u001b[0m est enregistrer \n"
     ]
    }
   ],
   "source": [
    "#exportation de la liste de concordenance\n",
    "\n",
    "nameOfResults = word2find.capitalize() + \"_Concordance.txt\"\n",
    "\n",
    "with open(nameOfResults, \"w\") as fileToWrite:\n",
    "    for line in conc:\n",
    "        fileToWrite.write(line + \"\\n\")\n",
    "     \n",
    "print(\"Le fichier \" + Fore.YELLOW + Style.BRIGHT + \" Able_Concordance.txt \" + Style.RESET_ALL + \" est enregistrer \")"
   ]
  },
  {
   "cell_type": "code",
   "execution_count": null,
   "metadata": {},
   "outputs": [],
   "source": []
  }
 ],
 "metadata": {
  "kernelspec": {
   "display_name": "Python 3",
   "language": "python",
   "name": "python3"
  },
  "language_info": {
   "codemirror_mode": {
    "name": "ipython",
    "version": 3
   },
   "file_extension": ".py",
   "mimetype": "text/x-python",
   "name": "python",
   "nbconvert_exporter": "python",
   "pygments_lexer": "ipython3",
   "version": "3.7.0"
  }
 },
 "nbformat": 4,
 "nbformat_minor": 4
}
